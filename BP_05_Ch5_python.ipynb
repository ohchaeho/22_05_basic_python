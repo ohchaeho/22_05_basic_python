{
  "nbformat": 4,
  "nbformat_minor": 0,
  "metadata": {
    "colab": {
      "provenance": [],
      "authorship_tag": "ABX9TyPv+0LoCmbS6ND8xn1QmHFc",
      "include_colab_link": true
    },
    "kernelspec": {
      "name": "python3",
      "display_name": "Python 3"
    },
    "language_info": {
      "name": "python"
    }
  },
  "cells": [
    {
      "cell_type": "markdown",
      "metadata": {
        "id": "view-in-github",
        "colab_type": "text"
      },
      "source": [
        "<a href=\"https://colab.research.google.com/github/ohchaeho/22_05_basic_python/blob/main/BP_05_Ch5_python.ipynb\" target=\"_parent\"><img src=\"https://colab.research.google.com/assets/colab-badge.svg\" alt=\"Open In Colab\"/></a>"
      ]
    },
    {
      "cell_type": "markdown",
      "source": [
        "1. 다음 프로그램의 출력은 무엇인가?"
      ],
      "metadata": {
        "id": "ioX_LdWpk0CQ"
      }
    },
    {
      "cell_type": "code",
      "source": [
        "age = 20\n",
        "if  age < 20:\n",
        "  print('20살 미만')\n",
        "else:\n",
        "  print('20살 이상')"
      ],
      "metadata": {
        "colab": {
          "base_uri": "https://localhost:8080/"
        },
        "id": "7K32NaaPjStq",
        "outputId": "2f9062ea-d4e4-4b5e-b6cb-7b578c502a6d"
      },
      "execution_count": 37,
      "outputs": [
        {
          "output_type": "stream",
          "name": "stdout",
          "text": [
            "20살 이상\n"
          ]
        }
      ]
    },
    {
      "cell_type": "markdown",
      "source": [
        "2. 1번 문제에서 age가 30이상이고 50 이하인 것을\n",
        " 체크하려면 어떻게 하여야 하는가?"
      ],
      "metadata": {
        "id": "0oQoY-_5kuC_"
      }
    },
    {
      "cell_type": "code",
      "source": [
        "age = 20\n",
        "if age >= 30 and age <= 50:\n",
        " print('30살 이상')\n",
        "else:\n",
        " print('50살 이하')"
      ],
      "metadata": {
        "colab": {
          "base_uri": "https://localhost:8080/"
        },
        "id": "1vDWs5hriO36",
        "outputId": "9987fb20-8dca-4872-d079-d8ea5dcd9034"
      },
      "execution_count": 99,
      "outputs": [
        {
          "output_type": "stream",
          "name": "stdout",
          "text": [
            "50살 이하\n"
          ]
        }
      ]
    },
    {
      "cell_type": "markdown",
      "source": [
        "3. 사용자에게 현재 온도를 질문하고 온도가 25도 이상이면 \n",
        "반바지를 추천하고 25도 이하이면 긴바지를 추천하는 프로그램을 작성해보자"
      ],
      "metadata": {
        "id": "Y8siKgnAknP4"
      }
    },
    {
      "cell_type": "code",
      "source": [
        "temp = int(input(\"현재 온도를 입력하시오: \"))\n",
        "if temp >= 25: \n",
        " print(\"반바지를 입으세요\") \n",
        "else:\n",
        " print(\"긴바지를 입으세요\")"
      ],
      "metadata": {
        "colab": {
          "base_uri": "https://localhost:8080/"
        },
        "id": "ui2ddbuMhb93",
        "outputId": "e6b1ba9b-9e97-4eec-ffca-171e09909798"
      },
      "execution_count": 17,
      "outputs": [
        {
          "output_type": "stream",
          "name": "stdout",
          "text": [
            "현재 온도를 입력하시오: 10\n",
            "긴바지를 입으세요\n"
          ]
        }
      ]
    },
    {
      "cell_type": "markdown",
      "source": [
        "4. 학생의 시험 점수를 물어보고 시험 점수가 90점 이상이면 a  80점 이상이면 b 70점 이상이면 c \n",
        "60점 이상이면 d 그외의 점수이면 f를 학점으로 주는 프로그램을 작성하라"
      ],
      "metadata": {
        "id": "NSkBIwrpkgO3"
      }
    },
    {
      "cell_type": "code",
      "source": [
        "score = int(input(\"성적을 입력하시오: \")) \n",
        "if score >= 90: \n",
        " print(\"A학점입니다.\") \n",
        "elif score >= 80: \n",
        " print(\"B학점입니다.\") \n",
        "elif score >= 70: \n",
        " print(\"C학점입니다.\") \n",
        "elif score >= 60: \n",
        " print(\"D학점입니다.\") \n",
        "else : \n",
        " print(\"F학점입니다.\") \n"
      ],
      "metadata": {
        "colab": {
          "base_uri": "https://localhost:8080/"
        },
        "id": "LQcvmY_cljU7",
        "outputId": "808b6aa8-647c-4fba-d338-80bf599b7335"
      },
      "execution_count": 33,
      "outputs": [
        {
          "output_type": "stream",
          "name": "stdout",
          "text": [
            "성적을 입력하시오: 70\n",
            "C학점입니다.\n"
          ]
        }
      ]
    },
    {
      "cell_type": "markdown",
      "source": [
        "5. 난수를 사용하여 1부터 100 사이의 숫자를 사용하는 뺄셈 문제를 생성하고 사용자에게 물어본 후에 사용자의 답변이 올바른지를 검사하는 프로그램을 작성하라."
      ],
      "metadata": {
        "id": "uzHCDRUulnMq"
      }
    },
    {
      "cell_type": "code",
      "source": [
        "import random\n",
        "x = random.randint(1, 100)\n",
        "y = random.randint(1, 100)\n",
        "ans = int(input(str(x)+\"-\"+str(y)+\"=\"))\n",
        "if ans == x -y :\n",
        " print(\"맞았습니다.\")\n",
        "else :\n",
        " print(\"틀렸습니다.\")\n"
      ],
      "metadata": {
        "colab": {
          "base_uri": "https://localhost:8080/"
        },
        "id": "sDU_1tFhl5a2",
        "outputId": "689a32d4-cd68-4247-c29d-44b527fde99e"
      },
      "execution_count": 36,
      "outputs": [
        {
          "output_type": "stream",
          "name": "stdout",
          "text": [
            "26-19=1\n",
            "틀렸습니다.\n"
          ]
        }
      ]
    },
    {
      "cell_type": "markdown",
      "source": [
        "6. 사용자로부터 정수를 받아서 이 정수가 2와 3으로 나누어떨어질 수 있는지를 출력하라."
      ],
      "metadata": {
        "id": "Pc1xQebDmsgD"
      }
    },
    {
      "cell_type": "code",
      "source": [
        "n = int(input(\"정수를 입력하시오: \"))\n",
        "if n%2==0 and n%3==0:\n",
        " print(\"2와 3으로 나누어 떨어집니다.\")\n",
        "else :\n",
        " print(\"2와 3으로 나누어 떨어지지 않습니다.\")"
      ],
      "metadata": {
        "colab": {
          "base_uri": "https://localhost:8080/"
        },
        "id": "t3Zu9wINm_Xy",
        "outputId": "d3766f55-fd5e-40f3-ac36-f2f36fb779db"
      },
      "execution_count": 40,
      "outputs": [
        {
          "output_type": "stream",
          "name": "stdout",
          "text": [
            "정수를 입력하시오: 48\n",
            "2와 3으로 나누어 떨어집니다.\n"
          ]
        }
      ]
    },
    {
      "cell_type": "markdown",
      "source": [
        "2자리 숫자로 이루어진 복권이 있다. 사용자가 가지고 있는 복권 번호가 2자리 모두 일치하면 100만원을 받는다 2자리 중에서 하나만 일치하면 50만원을 받는다. 하나도 일치하지 않은면 상금은 없다. 복권 당첨 번호는 난수로 생성하고 사용자의 입력에 따라서 상금이 얼마인지를 출력하는 프로그램을 작성하라"
      ],
      "metadata": {
        "id": "hT9tF7eEnQET"
      }
    },
    {
      "cell_type": "code",
      "source": [
        "import random\n",
        "solution = random.randint(0, 99)\n",
        "user = int(input(\"복권번호를 입력하시요(0에서 99사이): \"))\n",
        "digit1 = solution // 10\n",
        "digit2 = solution % 10\n",
        "u_digit1 = user // 10\n",
        "u_digit2 = user % 10\n",
        "print(\"당첨번호는\", solution, \"입니다.\")\n",
        "if (digit1 == u_digit1 and digit2 == u_digit2):\n",
        " print(\"상금은 100만원입니다.\")\n",
        "elif (digit1 == u_digit1\n",
        "or digit1 == u_digit2\n",
        "or digit2 == u_digit1\n",
        "or digit2 == u_digit2):\n",
        " print(\"상금은 50만원입니다.\")\n",
        "else:\n",
        " print(\"상금은 없습니다.\")"
      ],
      "metadata": {
        "colab": {
          "base_uri": "https://localhost:8080/"
        },
        "id": "VRuSR_oNoIS7",
        "outputId": "b286ac06-9444-4a13-d80e-b3d2d607f510"
      },
      "execution_count": 92,
      "outputs": [
        {
          "output_type": "stream",
          "name": "stdout",
          "text": [
            "복권번호를 입력하시요(0에서 99사이): 88\n",
            "당첨번호는 81 입니다.\n",
            "상금은 50만원입니다.\n"
          ]
        }
      ]
    },
    {
      "cell_type": "markdown",
      "source": [
        "사용자로부터 2개의 원에 대한 정보를 받아서 화면에 원을 그린 후에 조건문을 사용하여 큰 원 안에 작은 원이 포함돼ㅣ는지를 판단하는 프로그램을 작성하라."
      ],
      "metadata": {
        "id": "UPILEweloysF"
      }
    }
  ]
}