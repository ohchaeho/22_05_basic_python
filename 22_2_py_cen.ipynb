{
  "nbformat": 4,
  "nbformat_minor": 0,
  "metadata": {
    "colab": {
      "provenance": [],
      "authorship_tag": "ABX9TyPSbnFraiYFMueTuHitml0o",
      "include_colab_link": true
    },
    "kernelspec": {
      "name": "python3",
      "display_name": "Python 3"
    },
    "language_info": {
      "name": "python"
    }
  },
  "cells": [
    {
      "cell_type": "markdown",
      "metadata": {
        "id": "view-in-github",
        "colab_type": "text"
      },
      "source": [
        "<a href=\"https://colab.research.google.com/github/ohchaeho/22_05_basic_python/blob/main/22_2_py_cen.ipynb\" target=\"_parent\"><img src=\"https://colab.research.google.com/assets/colab-badge.svg\" alt=\"Open In Colab\"/></a>"
      ]
    },
    {
      "cell_type": "code",
      "source": [
        "print(1+2, 2-3, 3*4, 4/4)"
      ],
      "metadata": {
        "colab": {
          "base_uri": "https://localhost:8080/"
        },
        "id": "Jk8NjVf2UFFA",
        "outputId": "017e3e7d-a205-40f3-e3b4-366bd36ae602"
      },
      "execution_count": null,
      "outputs": [
        {
          "output_type": "stream",
          "name": "stdout",
          "text": [
            "3 -1 12 1.0\n"
          ]
        }
      ]
    },
    {
      "cell_type": "code",
      "source": [
        "print(\"*\"* 40)\n",
        "print(\"* 제1조 1항 대한민국은 민주공화국이다*\")\n",
        "print(\"*\"* 40)"
      ],
      "metadata": {
        "colab": {
          "base_uri": "https://localhost:8080/"
        },
        "id": "kzfcmDarUikr",
        "outputId": "1c1a89e8-27c5-4fe8-f605-06024cf7b10c"
      },
      "execution_count": null,
      "outputs": [
        {
          "output_type": "stream",
          "name": "stdout",
          "text": [
            "****************************************\n",
            "* 제1조 1항 대한민국은 민주공화국이다*\n",
            "****************************************\n"
          ]
        }
      ]
    },
    {
      "cell_type": "markdown",
      "source": [
        "21. 사용자에게 성명, 나이, 주소를 입력받아서 출력하라"
      ],
      "metadata": {
        "id": "nEcbgrTVWPQ4"
      }
    },
    {
      "cell_type": "code",
      "source": [
        "name = input(\"이름을 입력하시오 : \")\n",
        "age = input (\"나이를 입력하시오 : \")\n",
        "addr = input (\"주소를 입렵하시오 : \")\n",
        "print(name)\n",
        "print(age)\n",
        "print(addr)\n",
        "print(name, age, addr)"
      ],
      "metadata": {
        "colab": {
          "base_uri": "https://localhost:8080/"
        },
        "id": "o-DZCT9EWVDB",
        "outputId": "ce85c8de-3406-4dc6-e878-a43bf91e8965"
      },
      "execution_count": null,
      "outputs": [
        {
          "output_type": "stream",
          "name": "stdout",
          "text": [
            "이름을 입력하시오 : 오채호\n",
            "나이를 입력하시오 : 22\n",
            "주소를 입렵하시오 : 전주시 완산구 평화동 \n",
            "오채호\n",
            "22\n",
            "전주시 완산구 평화동 \n",
            "오채호 22 전주시 완산구 평화동 \n"
          ]
        }
      ]
    },
    {
      "cell_type": "code",
      "source": [
        "n1 = int(input(\"첫 번째 정수를 입력하시오. : \"))\n",
        "n2 = int(input(\"두 번째 정수를 입력하시오. : \"))\n",
        "print(두 합의 값은\",n1+n2,\"입니다.\")"
      ],
      "metadata": {
        "colab": {
          "base_uri": "https://localhost:8080/",
          "height": 137
        },
        "id": "w_yxcC6XaGBn",
        "outputId": "6452318f-6ce0-4e2f-9f02-950743723ccf"
      },
      "execution_count": null,
      "outputs": [
        {
          "output_type": "error",
          "ename": "SyntaxError",
          "evalue": "ignored",
          "traceback": [
            "\u001b[0;36m  File \u001b[0;32m\"<ipython-input-19-71c291d63018>\"\u001b[0;36m, line \u001b[0;32m3\u001b[0m\n\u001b[0;31m    print(두 합의 값은\",n1+n2,\"입니다.\")\u001b[0m\n\u001b[0m             ^\u001b[0m\n\u001b[0;31mSyntaxError\u001b[0m\u001b[0;31m:\u001b[0m invalid syntax\n"
          ]
        }
      ]
    }
  ]
}