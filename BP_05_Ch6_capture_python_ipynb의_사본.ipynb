{
  "nbformat": 4,
  "nbformat_minor": 0,
  "metadata": {
    "colab": {
      "provenance": [],
      "authorship_tag": "ABX9TyPfEFgrVeVRljJye4jX87gW",
      "include_colab_link": true
    },
    "kernelspec": {
      "name": "python3",
      "display_name": "Python 3"
    },
    "language_info": {
      "name": "python"
    }
  },
  "cells": [
    {
      "cell_type": "markdown",
      "metadata": {
        "id": "view-in-github",
        "colab_type": "text"
      },
      "source": [
        "<a href=\"https://colab.research.google.com/github/ohchaeho/22_05_basic_python/blob/main/BP_05_Ch6_capture_python_ipynb%EC%9D%98_%EC%82%AC%EB%B3%B8.ipynb\" target=\"_parent\"><img src=\"https://colab.research.google.com/assets/colab-badge.svg\" alt=\"Open In Colab\"/></a>"
      ]
    },
    {
      "cell_type": "markdown",
      "source": [
        "# 파일에 idle 실행 캡쳐본 있습니다."
      ],
      "metadata": {
        "id": "bnZowrSM0Gcm"
      }
    },
    {
      "cell_type": "code",
      "source": [
        "#파일에 idle 실행 결과 캡쳐본 있습니다."
      ],
      "metadata": {
        "id": "ew_DVw6T0cs0"
      },
      "execution_count": null,
      "outputs": []
    }
  ]
}