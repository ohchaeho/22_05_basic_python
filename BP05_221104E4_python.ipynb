{
  "nbformat": 4,
  "nbformat_minor": 0,
  "metadata": {
    "colab": {
      "provenance": [],
      "authorship_tag": "ABX9TyOuBzInGL7vmOlToX6KBGPl",
      "include_colab_link": true
    },
    "kernelspec": {
      "name": "python3",
      "display_name": "Python 3"
    },
    "language_info": {
      "name": "python"
    }
  },
  "cells": [
    {
      "cell_type": "markdown",
      "metadata": {
        "id": "view-in-github",
        "colab_type": "text"
      },
      "source": [
        "<a href=\"https://colab.research.google.com/github/ohchaeho/22_05_basic_python/blob/main/BP05_221104E4_python.ipynb\" target=\"_parent\"><img src=\"https://colab.research.google.com/assets/colab-badge.svg\" alt=\"Open In Colab\"/></a>"
      ]
    },
    {
      "cell_type": "code",
      "source": [
        "print('나는' + str(12) + '개의 사과를 먹었다') # 변칙 "
      ],
      "metadata": {
        "colab": {
          "base_uri": "https://localhost:8080/"
        },
        "id": "5vXN7-6ec8e7",
        "outputId": "5895eacc-44fd-49e2-a6eb-93ab5284d23d"
      },
      "execution_count": 6,
      "outputs": [
        {
          "output_type": "stream",
          "name": "stdout",
          "text": [
            "나는12개의 사과를 먹었다\n"
          ]
        }
      ]
    },
    {
      "cell_type": "code",
      "source": [
        "print('apple'+'apple')   # 문자 더하기 문자\n",
        "print('apple' + (\"apple\"* 3)) # 문자 * 숫자는 숫자만큼 반복"
      ],
      "metadata": {
        "colab": {
          "base_uri": "https://localhost:8080/"
        },
        "id": "TxxVNAxLdvwO",
        "outputId": "8dbc5ecd-b8a0-4c26-ea50-2f235fd26d7d"
      },
      "execution_count": 31,
      "outputs": [
        {
          "output_type": "stream",
          "name": "stdout",
          "text": [
            "appleapple\n",
            "appleappleappleapple\n"
          ]
        }
      ]
    },
    {
      "cell_type": "code",
      "source": [
        "_str = input(\"문자열을 입력하시오: \")          # 추출\n",
        "s = str[0:2] + str[-2:]\n",
        "print(s)"
      ],
      "metadata": {
        "colab": {
          "base_uri": "https://localhost:8080/"
        },
        "id": "F84C3We6ghrZ",
        "outputId": "25d8cd2b-b151-4369-9f33-73428ded3cc0"
      },
      "execution_count": 45,
      "outputs": [
        {
          "output_type": "stream",
          "name": "stdout",
          "text": [
            "문자열을 입력하시오: python\n",
            "[][]\n"
          ]
        }
      ]
    },
    {
      "cell_type": "code",
      "source": [
        "s=input(\"문자열을 입력하시오: \")         # 문자\n",
        "s += \"하는 중\"\n",
        "print(s)"
      ],
      "metadata": {
        "colab": {
          "base_uri": "https://localhost:8080/"
        },
        "id": "22CvdRC-iRnm",
        "outputId": "7fc2eabe-327a-45ff-acc8-106414b9aa8f"
      },
      "execution_count": 40,
      "outputs": [
        {
          "output_type": "stream",
          "name": "stdout",
          "text": [
            "문자열을 입력하시오: 청소\n",
            "청소하는 중\n"
          ]
        }
      ]
    },
    {
      "cell_type": "code",
      "source": [
        "str=input(\"기호를 입력하시오: \")              # 2가지 문자의 기호\n",
        "word=input(\"중간에 삽입할 문자열을 입력하시오: \")\n",
        "s = str[:1] + word + str[1:]\n",
        "print(s)"
      ],
      "metadata": {
        "colab": {
          "base_uri": "https://localhost:8080/"
        },
        "id": "mpZBTE7Zib9l",
        "outputId": "252be3b6-a0cf-4714-cbf5-2e3fb5235742"
      },
      "execution_count": 41,
      "outputs": [
        {
          "output_type": "stream",
          "name": "stdout",
          "text": [
            "기호를 입력하시오: []\n",
            "중간에 삽입할 문자열을 입력하시오: python\n",
            "[python]\n"
          ]
        }
      ]
    },
    {
      "cell_type": "code",
      "source": [
        "lista = [1, 2, 3, 4]          # 4개의 숫자의 합계\n",
        "sum = 0\n",
        "sum = lista[0] + lista[1] + lista[2] + lista[3]\n",
        "print(\"리스트 = \", lista)\n",
        "print(\"리스트 숫자들의 합 = \", sum)"
      ],
      "metadata": {
        "colab": {
          "base_uri": "https://localhost:8080/"
        },
        "id": "nCOGTPwAipVv",
        "outputId": "5037274a-e6e9-4c93-d4ce-a1c6c8e41b6a"
      },
      "execution_count": 42,
      "outputs": [
        {
          "output_type": "stream",
          "name": "stdout",
          "text": [
            "리스트 =  [1, 2, 3, 4]\n",
            "리스트 숫자들의 합 =  10\n"
          ]
        }
      ]
    },
    {
      "cell_type": "code",
      "source": [
        ">>> import turtle            # 3기지 색상 \n",
        ">>> t = turtle.Turtle()\n",
        ">>> t.shape(\"turtle\")\n",
        ">>> lista = [ ]\n",
        ">>> color = input(\"색상 #1을 입력하시오: \")\n",
        ">>> lista.append(yellow)\n",
        ">>> color = input(\"색상 #2을 입력하시오: \")\n",
        ">>> lista.append(red)\n",
        ">>> color = input(\"색상 #3을 입력하시오: \")\n",
        ">>> lista.append(bleu)\n",
        ">>> t.fillcolor(lista[0])\n",
        ">>> t.begin_fill()\n",
        ">>> t.circle(50)\n",
        ">>> t.end_fill()\n",
        ">>> t.up()\n",
        ">>> t.goto(100, 0)\n",
        ">>> t.down()\n",
        ">>> t.fillcolor(lista[1])\n",
        ">>> t.begin_fill()\n",
        ">>> t.circle(50)\n",
        ">>> t.end_fill()\n",
        ">>> t.up()\n",
        ">>> t.goto(200, 0)\n",
        ">>> t.down()\n",
        ">>> t.fillcolor(lista[2])\n",
        ">>> t.begin_fill()\n",
        ">>> t.circle(50)\n",
        ">>> t.end_fill()\n",
        ">>> t._screen.exitonclick() "
      ],
      "metadata": {
        "id": "Edv4TNExo3kL"
      },
      "execution_count": null,
      "outputs": []
    },
    {
      "cell_type": "code",
      "source": [
        ">>> import turtle            # 거북이를 3개의 좌표룰 사용하여 움직이기\n",
        ">>> t = turtle.Turtle()\n",
        ">>> t.shape(\"turtle\")\n",
        ">>> lista = [ ]\n",
        ">>> lista.append(int(input(\"x1: \")))\n",
        "x1: 0\n",
        ">>> lista.append(int(input(\"y1: \")))\n",
        "y1: 0\n",
        ">>> lista.append(int(input(\"x2: \")))\n",
        "x2: 100\n",
        ">>> lista.append(int(input(\"y2: \")))\n",
        "y2: 100\n",
        ">>> lista.append(int(input(\"x3: \")))\n",
        "x3: 200\n",
        ">>> lista.append(int(input(\"y3: \")))\n",
        "y3: 100\n",
        ">>> t.goto(lista[0], lista[1])\n",
        ">>> t.goto(lista[2], lista[3])\n",
        ">>> t.goto(lista[4], lista[5])\n",
        ">>> t._screen.exitonclick()"
      ],
      "metadata": {
        "id": "Ya9MYveUpZEc"
      },
      "execution_count": null,
      "outputs": []
    }
  ]
}