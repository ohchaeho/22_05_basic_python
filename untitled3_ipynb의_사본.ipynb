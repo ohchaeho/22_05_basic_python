{
  "nbformat": 4,
  "nbformat_minor": 0,
  "metadata": {
    "colab": {
      "provenance": [],
      "authorship_tag": "ABX9TyPr5qf+V05t3T4QX8HeQCEr",
      "include_colab_link": true
    },
    "kernelspec": {
      "name": "python3",
      "display_name": "Python 3"
    },
    "language_info": {
      "name": "python"
    }
  },
  "cells": [
    {
      "cell_type": "markdown",
      "metadata": {
        "id": "view-in-github",
        "colab_type": "text"
      },
      "source": [
        "<a href=\"https://colab.research.google.com/github/ohchaeho/22_05_basic_python/blob/main/untitled3_ipynb%EC%9D%98_%EC%82%AC%EB%B3%B8.ipynb\" target=\"_parent\"><img src=\"https://colab.research.google.com/assets/colab-badge.svg\" alt=\"Open In Colab\"/></a>"
      ]
    },
    {
      "cell_type": "code",
      "execution_count": null,
      "metadata": {
        "colab": {
          "base_uri": "https://localhost:8080/"
        },
        "id": "r62qBzBuXhvi",
        "outputId": "59115d2a-8299-4a51-eed3-74c1207da095"
      },
      "outputs": [
        {
          "output_type": "stream",
          "name": "stdout",
          "text": [
            "x의 값은?: 5\n",
            "y의 값은?: 5\n",
            "두 수의 합은 :  10\n",
            "두 수의 차는 :  0\n",
            "두 수의 곱은 :  10\n",
            "두 수의 평균은 :  5.0\n",
            "큰 수는? :  5\n",
            "작은 수는? : 5\n"
          ]
        }
      ],
      "source": [
        "x = int(input(\"x의 값은?: \"))\n",
        "y = int(input(\"y의 값은?: \"))\n",
        "\n",
        "print(\"두 수의 합은 : \", x + y)\n",
        "print(\"두 수의 차는 : \", x - y)\n",
        "print(\"두 수의 곱은 : \", x + y)\n",
        "print(\"두 수의 평균은 : \", (x + y)/2)\n",
        "print(\"큰 수는? : \", max(x, y))\n",
        "print(\"작은 수는? :\", min (x,y))"
      ]
    },
    {
      "cell_type": "code",
      "source": [
        "number = int(input(\"정수를 입렵하시오. : \"))\n",
        "\n",
        "sum = 0\n",
        "sum = sum + number % 10 \n",
        "number = number // 10\n",
        "\n",
        "sum = sum + number % 10\n",
        "number = number // 10\n",
        "\n",
        "sum = sum + number % 10\n",
        "number + number // 10\n",
        "\n",
        "sum + sum + number % 10\n",
        "number + number // 10\n",
        "\n",
        "print(\"자리수의 합은: \". str(sut))\n"
      ],
      "metadata": {
        "id": "Ei4gTgcdcx9a"
      },
      "execution_count": null,
      "outputs": []
    },
    {
      "cell_type": "code",
      "source": [
        "x1 = int(input(\"x1값을 입렵하시오. : \"))\n",
        "x2 = int(input(\"y1값을 입렵하시오. : \"))\n",
        "y1 = int(input(\"x1값을 입렵하시오. : \"))\n",
        "y2 = int(input(\"y2값을 입렵하시오. : \"))\n",
        "dist = ((x2 - x1))**2 +(y2 = y1)**2)**0.5\n",
        "print(\"두점의 사이의 거리는? \" . dist, \" 입니다.\")"
      ],
      "metadata": {
        "id": "UA6_fYMOh7CG"
      },
      "execution_count": null,
      "outputs": []
    },
    {
      "cell_type": "code",
      "source": [],
      "metadata": {
        "id": "mlWiOtDspTrb"
      },
      "execution_count": null,
      "outputs": []
    }
  ]
}