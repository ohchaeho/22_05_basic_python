{
  "nbformat": 4,
  "nbformat_minor": 0,
  "metadata": {
    "colab": {
      "provenance": [],
      "authorship_tag": "ABX9TyOI5yL/mdH9e+imGfImJoQb",
      "include_colab_link": true
    },
    "kernelspec": {
      "name": "python3",
      "display_name": "Python 3"
    },
    "language_info": {
      "name": "python"
    }
  },
  "cells": [
    {
      "cell_type": "markdown",
      "metadata": {
        "id": "view-in-github",
        "colab_type": "text"
      },
      "source": [
        "<a href=\"https://colab.research.google.com/github/ohchaeho/22_05_basic_python/blob/main/BP_05_Ch6_python.ipynb\" target=\"_parent\"><img src=\"https://colab.research.google.com/assets/colab-badge.svg\" alt=\"Open In Colab\"/></a>"
      ]
    },
    {
      "cell_type": "markdown",
      "source": [
        "1. 2부터 100 사이의 모든 짝수를 출력하는 반복 루프를 작성한다."
      ],
      "metadata": {
        "id": "opqi_ruRDCfd"
      }
    },
    {
      "cell_type": "code",
      "execution_count": null,
      "metadata": {
        "colab": {
          "base_uri": "https://localhost:8080/"
        },
        "id": "WjW2sRJ2Cm-H",
        "outputId": "989724a5-e56f-4fe1-e976-203f2d646d3b"
      },
      "outputs": [
        {
          "output_type": "stream",
          "name": "stdout",
          "text": [
            "2 4 6 8 10 12 14 16 18 20 22 24 26 28 30 32 34 36 38 40 42 44 46 48 50 52 54 56 58 60 62 64 66 68 70 72 74 76 78 80 82 84 86 88 90 92 94 96 98 100 "
          ]
        }
      ],
      "source": [
        "for i in range(2, 101, 2):             #101이전까지 반복하는데 2값씩 커지면서 반복\n",
        "    print(i, end=\" \")"
      ]
    },
    {
      "cell_type": "markdown",
      "source": [
        "2. 어떤 사람이 복리이자율 7%로 1000만원을 저금했을 경우에 2000만원이 되는데 몇 년이 걸리는지 계산하기 위하여 다음과 코드를 작성하였다, 잘못된 점은 없는지 체크해보자."
      ],
      "metadata": {
        "id": "A2caL6_oD9y8"
      }
    },
    {
      "cell_type": "code",
      "source": [
        "year = 0         # 이하의 값으로 조건을 바꾸면 반복\n",
        "balance = 1000\n",
        "while balance >= 2000:\n",
        "    year = year + 1\n",
        "    interest = balance * 0.07\n",
        "    balance = balance + interest\n",
        "print(year, \"년이 걸립니다.\")"
      ],
      "metadata": {
        "colab": {
          "base_uri": "https://localhost:8080/"
        },
        "id": "i7erwsgUEP4N",
        "outputId": "1953906d-14b5-4bf1-8e87-fd07c7da3e2a"
      },
      "execution_count": null,
      "outputs": [
        {
          "output_type": "stream",
          "name": "stdout",
          "text": [
            "0 년이 걸립니다.\n"
          ]
        }
      ]
    },
    {
      "cell_type": "code",
      "source": [
        "year = 0                      #연산 과정\n",
        "balance = 1000\n",
        "while balance <= 2000:\n",
        "    year = year + 1\n",
        "    interest = balance * 0.07\n",
        "    balance = balance + interest\n",
        "print(year, \"년이 걸립니다.\")"
      ],
      "metadata": {
        "colab": {
          "base_uri": "https://localhost:8080/"
        },
        "id": "-CPjVSUoEbv2",
        "outputId": "ffcb1131-8abd-4cf5-8cbe-9ccfa54eeea5"
      },
      "execution_count": null,
      "outputs": [
        {
          "output_type": "stream",
          "name": "stdout",
          "text": [
            "11 년이 걸립니다.\n"
          ]
        }
      ]
    },
    {
      "cell_type": "markdown",
      "source": [
        "3. 다음 코드의 출력을 예상해보자. 각 단계에서 변수의 값을 예상해보시오."
      ],
      "metadata": {
        "id": "jXlMUul6EdTV"
      }
    },
    {
      "cell_type": "code",
      "source": [
        "n = 1234                   #연산 과정 \n",
        "sum = 0\n",
        "while n > 0:\n",
        "    digit = n %10\n",
        "    sum = sum + digit\n",
        "    n = n // 10\n",
        "print(sum)"
      ],
      "metadata": {
        "colab": {
          "base_uri": "https://localhost:8080/"
        },
        "id": "3CaTZeyVEkx3",
        "outputId": "2a5a217d-945e-4bf1-c2be-ca54cf9ffc8b"
      },
      "execution_count": null,
      "outputs": [
        {
          "output_type": "stream",
          "name": "stdout",
          "text": [
            "10\n"
          ]
        }
      ]
    },
    {
      "cell_type": "markdown",
      "source": [
        "4. 사용자에게 곱셈 퀴즈를 내고 답을 사요자로부터 받는 프로그램에서 사용자가 올바른 답을 입력할 때까지 반복하도록 수정하여 보자."
      ],
      "metadata": {
        "id": "2jTjx0AEEwvZ"
      }
    },
    {
      "cell_type": "code",
      "source": [
        "import random as rd                  # x 변수와 y 변수에 랜덤 함수\n",
        " \n",
        "while(True):\n",
        "    x = rd.randint(1, 10)\n",
        "    y = rd.randint(1, 10)\n",
        "    cal = int(input(str(x)+\"*\"+str(y)+\"는 \"))\n",
        "    if(cal == (x*y)):\n",
        "        print(\"맞았습니다\", end=\" \")\n",
        "        break;"
      ],
      "metadata": {
        "colab": {
          "base_uri": "https://localhost:8080/"
        },
        "id": "X-YIFHBQE48w",
        "outputId": "53dd00ef-f53b-4264-ef95-ec776d6d0afc"
      },
      "execution_count": null,
      "outputs": [
        {
          "output_type": "stream",
          "name": "stdout",
          "text": [
            "3*5는 15\n",
            "맞았습니다 "
          ]
        }
      ]
    },
    {
      "cell_type": "markdown",
      "source": [
        "05. 사용자가 입력한 정수의 합을 계산하는 프로그램을 작성하자. 사용자가 0을 입력하기 전까지 정수를 계속하여 읽도록 한다."
      ],
      "metadata": {
        "id": "nRa7gG8TE-lY"
      }
    },
    {
      "cell_type": "code",
      "source": [
        "sum =0                   # 0이 입력되기 전까지 무한 반복 변수\n",
        "while(True):\n",
        "    cal = int(input(\"정수를 입력하시오 : \"))\n",
        "    if(cal==0):\n",
        "        break;\n",
        "    sum += cal\n",
        "print(\"합은\", sum ,\"입니다.\")"
      ],
      "metadata": {
        "colab": {
          "base_uri": "https://localhost:8080/"
        },
        "id": "RGujrWFoFBIA",
        "outputId": "bb087378-55f4-4ed3-e522-a8b59dfd6267"
      },
      "execution_count": null,
      "outputs": [
        {
          "output_type": "stream",
          "name": "stdout",
          "text": [
            "정수를 입력하시오 : 1\n",
            "정수를 입력하시오 : 2\n",
            "정수를 입력하시오 : 3\n",
            "정수를 입력하시오 : 4\n",
            "정수를 입력하시오 : 0\n",
            "합은 10 입니다.\n"
          ]
        }
      ]
    },
    {
      "cell_type": "markdown",
      "source": [
        "06. 난수 생성 함수를 사용하여서 2개의 주사위를 던졌을 때 나오는 수를 다음과 같이 출력하여 보자."
      ],
      "metadata": {
        "id": "wdYtc8jgFKvh"
      }
    },
    {
      "cell_type": "code",
      "source": [
        "import random as rd           # 2개의 수를 random 함수\n",
        "for i in range(3):\n",
        "    x = rd.randint(1, 6)\n",
        "    y = rd.randint(1, 6)\n",
        "    print(\"첫번째 주사위=\",x ,\"두번째 주사위=\",y)"
      ],
      "metadata": {
        "colab": {
          "base_uri": "https://localhost:8080/"
        },
        "id": "vPuPT28PFNcQ",
        "outputId": "a7437f1b-19d8-4eea-a4fd-c3785a2f6faa"
      },
      "execution_count": null,
      "outputs": [
        {
          "output_type": "stream",
          "name": "stdout",
          "text": [
            "첫번째 주사위= 5 두번째 주사위= 1\n",
            "첫번째 주사위= 3 두번째 주사위= 6\n",
            "첫번째 주사위= 1 두번째 주사위= 5\n"
          ]
        }
      ]
    },
    {
      "cell_type": "markdown",
      "source": [
        "07. 다음 그래픽과 반복을 사용하여 눈 모양을 그려보자.\n",
        "# 총 6개의 가지가 있기 때문에 6번의 반복"
      ],
      "metadata": {
        "id": "WiQJD4XxFSKR"
      }
    },
    {
      "cell_type": "markdown",
      "source": [
        "08. 우리는 이번 장에서 터틀 그래픽으로 별을 그려보았다. 이 코드를 응용하여서 다음과 같이 10개의 별을 그리는 프로그램을 작성하라. 별들은 시작 각도가 약간씩 다르다.\n",
        "# 2번째 반복문은 1~5까지 반복할 수 있도록 값을 대입"
      ],
      "metadata": {
        "id": "aa-8lfY7Hy5R"
      }
    },
    {
      "cell_type": "markdown",
      "source": [
        "09. 반복과 난수를 함께 사용하면 화면에 랜덤한 원을 그릴 수 있다. 화면에 10개의 랜덤한 원을 그리는 프로그램을 작성하라. 원의 중심과 반지름이 모두 난수이어야 한다.\n",
        "# 10번 반복하므로 range의 값은 10"
      ],
      "metadata": {
        "id": "Fmc8L_Y9JYPv"
      }
    },
    {
      "cell_type": "markdown",
      "source": [
        "10. 다음과 같이 거북이를 왕복 달리기시키는 프로그램을 작성해보자.\n",
        "\n",
        "#반복하는 수 "
      ],
      "metadata": {
        "id": "X_pD10ubJyXA"
      }
    },
    {
      "cell_type": "markdown",
      "source": [
        "11. 다음의 터틀 그래픽 프로그램을 분석해보자. 학습하지 않은 함수가 있다면 인터넷에서 조사하여 보자.\n",
        "# t에 turtle.Turtle()함수 정의"
      ],
      "metadata": {
        "id": "GuCBuGksKPvo"
      }
    },
    {
      "cell_type": "markdown",
      "source": [
        "12. 터틀 그래픽과 반복을 사용하여 싸인(sine) 그래프를 그려보자. 거북이를 싸인값에 따라서 움직이면 된다.\n",
        "# HINT 공식의 대입"
      ],
      "metadata": {
        "id": "TypHs1w_Kq-Z"
      }
    }
  ]
}